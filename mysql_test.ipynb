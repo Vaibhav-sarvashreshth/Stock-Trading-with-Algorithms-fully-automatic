{
 "cells": [
  {
   "cell_type": "code",
   "execution_count": 1,
   "metadata": {},
   "outputs": [],
   "source": [
    "import mysql.connector\n",
    "import redis\n",
    "import json\n",
    "\n",
    "# Establish a connection\n",
    "conn = mysql.connector.connect(\n",
    "    host=\"localhost\",\n",
    "    user=\"root\",\n",
    "    password=\"Vaibhav@123\",\n",
    "    database=\"stock_test\"\n",
    ")\n",
    "\n",
    "# print(dir(conn))\n",
    "# Create a cursor object to interact with the database\n",
    "cursor = conn.cursor()\n",
    "\n",
    "# Connect to Redis\n",
    "redis_conn = redis.StrictRedis(host='localhost', port=6379, db=0)"
   ]
  },
  {
   "cell_type": "code",
   "execution_count": 19,
   "metadata": {},
   "outputs": [
    {
     "name": "stdout",
     "output_type": "stream",
     "text": [
      "[(10,)]\n"
     ]
    }
   ],
   "source": [
    "\n",
    "\n",
    "\n",
    "query = \"select count(stock_name) from stocks\"\n",
    "conn.commit()  \n",
    "cursor.execute(query)\n",
    "result = cursor.fetchall()\n",
    "token = result\n",
    "# print(token)\n",
    "\n",
    "print(token)\n",
    "# dhan_security_code = str(token)\n",
    "# dhan_data = get_dhan_data(dhan_security_code)\n",
    "# print(dhan_data)"
   ]
  }
 ],
 "metadata": {
  "kernelspec": {
   "display_name": "my_env",
   "language": "python",
   "name": "python3"
  },
  "language_info": {
   "codemirror_mode": {
    "name": "ipython",
    "version": 3
   },
   "file_extension": ".py",
   "mimetype": "text/x-python",
   "name": "python",
   "nbconvert_exporter": "python",
   "pygments_lexer": "ipython3",
   "version": "3.8.5"
  }
 },
 "nbformat": 4,
 "nbformat_minor": 2
}
