{
 "cells": [
  {
   "cell_type": "code",
   "execution_count": 1,
   "metadata": {},
   "outputs": [],
   "source": [
    "import redis\n",
    "import json\n",
    "\n",
    "# Connect to Redis\n",
    "redis_conn = redis.StrictRedis(host='localhost', port=6379, db=0)\n",
    "\n",
    "# Function to simulate signal generation\n",
    "def generate_signal(stock_id, signal_type):\n",
    "    if signal_type == 'sell':\n",
    "        signal_data = {\n",
    "            'stock_id': stock_id,\n",
    "            'signal': 'sell'\n",
    "        }\n",
    "        # Push the signal to Redis (could use a list or stream)\n",
    "        redis_conn.rpush('stock_signals', json.dumps(signal_data))\n",
    "\n",
    "# Example: If a sell signal is detected\n",
    "generate_signal('AAPL', 'sell')\n"
   ]
  },
  {
   "cell_type": "code",
   "execution_count": 7,
   "metadata": {},
   "outputs": [
    {
     "name": "stdout",
     "output_type": "stream",
     "text": [
      "Stock ID: ABBOTINDIA | Signal: sell\n",
      "Stock ID: PETRONET | Signal: sell\n",
      "Stock ID: ABBOTINDIA | Signal: sell\n",
      "Stock ID: PETRONET | Signal: sell\n"
     ]
    }
   ],
   "source": [
    "import redis\n",
    "import json\n",
    "\n",
    "# Connect to Redis\n",
    "redis_conn = redis.StrictRedis(host='localhost', port=6379, db=0)\n",
    "\n",
    "# Function to read and process signals from Redis\n",
    "def process_signals():\n",
    "    while True:\n",
    "        signal = redis_conn.lpop('stock_signals')  # Read and remove the first signal\n",
    "        if signal:\n",
    "            signal_data = json.loads(signal)\n",
    "            print(f\"Stock ID: {signal_data['stock_id']} | Signal: {signal_data['signal']}\")\n",
    "        else:\n",
    "            break\n",
    "\n",
    "# Process signals\n",
    "process_signals()\n"
   ]
  }
 ],
 "metadata": {
  "kernelspec": {
   "display_name": "my_env",
   "language": "python",
   "name": "python3"
  },
  "language_info": {
   "codemirror_mode": {
    "name": "ipython",
    "version": 3
   },
   "file_extension": ".py",
   "mimetype": "text/x-python",
   "name": "python",
   "nbconvert_exporter": "python",
   "pygments_lexer": "ipython3",
   "version": "3.8.5"
  }
 },
 "nbformat": 4,
 "nbformat_minor": 2
}
